{
 "cells": [
  {
   "cell_type": "code",
   "execution_count": 11,
   "metadata": {},
   "outputs": [],
   "source": [
    "#  Fetch all the image file names using glob\n",
    "#  Read all the images using cv2.imread()\n",
    "#  Store all the images into a list\n",
    "#  Create a VideoWriter object using cv2.VideoWriter()\n",
    "#  Save the images to video file using cv2.VideoWriter().write()\n",
    "#  Release the VideoWriter and destroy all windows.\n",
    "\n",
    "import cv2\n",
    "import numpy as np\n",
    "import glob\n",
    "import os\n",
    "from IPython.display import Video\n"
   ]
  },
  {
   "cell_type": "code",
   "execution_count": 12,
   "metadata": {},
   "outputs": [
    {
     "name": "stdout",
     "output_type": "stream",
     "text": [
      "/home/arnold/raindrop-detection-cnn/mesonet/20161123T153002_BATA.jpg_sliding_window.jpg\n",
      "/home/arnold/raindrop-detection-cnn/mesonet/20191112T183029_VOOR.jpg\n",
      "/home/arnold/raindrop-detection-cnn/mesonet/20180722T181031_WARW.jpg\n",
      "/home/arnold/raindrop-detection-cnn/mesonet/20191030T161529_VOOR.jpg\n",
      "/home/arnold/raindrop-detection-cnn/mesonet/20170407T095502_BURT.jpg_sliding_window.jpg\n",
      "/home/arnold/raindrop-detection-cnn/mesonet/20191008T165026_BURT.jpg\n",
      "/home/arnold/raindrop-detection-cnn/mesonet/20171012T183527_ESSX.jpg_sliding_window.jpg\n",
      "/home/arnold/raindrop-detection-cnn/mesonet/20181210T115528_WARW.jpg_sliding_window.jpg\n",
      "/home/arnold/raindrop-detection-cnn/mesonet/20160107T212001_ESSX.jpg_sliding_window.jpg\n",
      "/home/arnold/raindrop-detection-cnn/mesonet/20180708T154026_BURT.jpg_sliding_window.jpg\n",
      "/home/arnold/raindrop-detection-cnn/mesonet/20180603T102030_STAT.jpg_sliding_window.jpg\n",
      "/home/arnold/raindrop-detection-cnn/mesonet/20170622T155027_GFLD.jpg_sliding_window.jpg\n",
      "/home/arnold/raindrop-detection-cnn/mesonet/20180607T145530_WARW.jpg_sliding_window.jpg\n",
      "/home/arnold/raindrop-detection-cnn/mesonet/20180722T181031_WARW.jpg_sliding_window.jpg\n",
      "/home/arnold/raindrop-detection-cnn/mesonet/20160420T221001_DELE.jpg\n",
      "/home/arnold/raindrop-detection-cnn/mesonet/20180826T143026_BRON.jpg_sliding_window.jpg\n",
      "/home/arnold/raindrop-detection-cnn/mesonet/20161021T144502_BATA.jpg\n",
      "/home/arnold/raindrop-detection-cnn/mesonet/20180907T193032_WARW.jpg_sliding_window.jpg\n",
      "/home/arnold/raindrop-detection-cnn/mesonet/20161013T164513_YORK.jpg_sliding_window.jpg\n"
     ]
    }
   ],
   "source": [
    "path = '/home/arnold/raindrop-detection-cnn/mesonet/*.jpg'\n",
    "img_array = []\n",
    "#for count in range(len(os.listdir(path))):\n",
    "for filename in glob.glob(path):\n",
    "#     filename = './path/mask_frame_' + str(count) + '.jpg'\n",
    "    #filename = path + str(count) + '.jpg'\n",
    "    print(filename)\n",
    "    img = cv2.imread(filename)\n",
    "    #print(img)\n",
    "    height, width, layers = img.shape\n",
    "    size = (width,height)\n",
    "    img_array.append(img)\n",
    "\n",
    "out = cv2.VideoWriter('test_video.avi',cv2.VideoWriter_fourcc(*'DIVX'), 24, size)\n",
    "Video(\"/home/arnold/raindrop-detection-cnn/test_video.avi\")\n",
    "\n",
    "for i in range(len(img_array)):\n",
    "    out.write(img_array[i])\n",
    "out.release()"
   ]
  },
  {
   "cell_type": "code",
   "execution_count": 14,
   "metadata": {},
   "outputs": [
    {
     "data": {
      "text/html": [
       "<video width=\"320\" height=\"240\" controls>\n",
       "  <source src=\"/home/arnold/raindrop-detection-cnn/project.avi\" type=\"video/avi\">\n",
       "</video>\n"
      ],
      "text/plain": [
       "<IPython.core.display.HTML object>"
      ]
     },
     "metadata": {},
     "output_type": "display_data"
    }
   ],
   "source": [
    "%%HTML\n",
    "<video width=\"320\" height=\"240\" controls>\n",
    "  <source src=\"/home/arnold/raindrop-detection-cnn/project.avi\" type=\"video/avi\">\n",
    "</video>"
   ]
  },
  {
   "cell_type": "code",
   "execution_count": null,
   "metadata": {},
   "outputs": [],
   "source": []
  }
 ],
 "metadata": {
  "kernelspec": {
   "display_name": "Python 3",
   "language": "python",
   "name": "python3"
  },
  "language_info": {
   "codemirror_mode": {
    "name": "ipython",
    "version": 3
   },
   "file_extension": ".py",
   "mimetype": "text/x-python",
   "name": "python",
   "nbconvert_exporter": "python",
   "pygments_lexer": "ipython3",
   "version": "3.6.11"
  }
 },
 "nbformat": 4,
 "nbformat_minor": 4
}
