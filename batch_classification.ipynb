{
 "cells": [
  {
   "cell_type": "code",
   "execution_count": 1,
   "metadata": {},
   "outputs": [],
   "source": [
    "# Put these at the top of every notebook, to get automatic reloading and inline plotting\n",
    "%reload_ext autoreload\n",
    "%autoreload 2\n",
    "%matplotlib inline\n",
    "\n",
    "import numpy as np\n",
    "import tensorflow as tf\n",
    "#import tensorflow_hub as hub\n",
    "\n",
    "from tensorflow import keras\n",
    "import time\n",
    "\n",
    "import PIL.Image as Image\n",
    "import matplotlib.pylab as plt\n"
   ]
  },
  {
   "cell_type": "code",
   "execution_count": 2,
   "metadata": {},
   "outputs": [],
   "source": [
    "#load model\n",
    "# It can be used to reconstruct the model identically.\n",
    "model = keras.models.load_model(\"/home/arnold/raindrop-detection-cnn/models/custom_cloud_classification\")"
   ]
  },
  {
   "cell_type": "code",
   "execution_count": 3,
   "metadata": {},
   "outputs": [
    {
     "name": "stdout",
     "output_type": "stream",
     "text": [
      "(1, 720, 1280, 3)\n",
      "tf.Tensor(\n",
      "[[[[209. 226. 242.]\n",
      "   [209. 226. 242.]\n",
      "   [209. 226. 242.]\n",
      "   ...\n",
      "   [141. 167. 216.]\n",
      "   [136. 162. 211.]\n",
      "   [133. 159. 208.]]\n",
      "\n",
      "  [[209. 226. 242.]\n",
      "   [209. 226. 242.]\n",
      "   [209. 226. 242.]\n",
      "   ...\n",
      "   [146. 172. 221.]\n",
      "   [142. 168. 217.]\n",
      "   [139. 165. 214.]]\n",
      "\n",
      "  [[209. 226. 242.]\n",
      "   [209. 226. 242.]\n",
      "   [209. 226. 242.]\n",
      "   ...\n",
      "   [151. 177. 226.]\n",
      "   [148. 174. 223.]\n",
      "   [146. 172. 221.]]\n",
      "\n",
      "  ...\n",
      "\n",
      "  [[ 55.  49.  33.]\n",
      "   [ 92.  86.  70.]\n",
      "   [105.  99.  83.]\n",
      "   ...\n",
      "   [ 66.  59.  41.]\n",
      "   [ 73.  64.  47.]\n",
      "   [ 75.  66.  49.]]\n",
      "\n",
      "  [[ 43.  37.  21.]\n",
      "   [ 66.  60.  44.]\n",
      "   [ 67.  61.  45.]\n",
      "   ...\n",
      "   [ 74.  67.  51.]\n",
      "   [ 83.  76.  60.]\n",
      "   [ 76.  69.  53.]]\n",
      "\n",
      "  [[ 64.  58.  42.]\n",
      "   [ 71.  65.  49.]\n",
      "   [ 52.  46.  30.]\n",
      "   ...\n",
      "   [ 78.  71.  55.]\n",
      "   [102.  95.  79.]\n",
      "   [ 96.  89.  73.]]]], shape=(1, 720, 1280, 3), dtype=float32)\n",
      "(1, 7)\n",
      "5\n",
      "This image most likely belongs to scattered with a 99.94 percent confidence.\n"
     ]
    }
   ],
   "source": [
    "batch_size = 32\n",
    "img_height = 720\n",
    "img_width = 1280\n",
    "class_names = ['clear', 'few', 'night', 'overcast', 'rain', 'scattered', 'snow']\n",
    "new_img_path = '/home/mesonet/cam_photos/2018/12/20/VOOR/20181220T175030_VOOR.jpg'\n",
    "#new_img_path = '/home/arnold/raindrop-detection-cnn/mesonet/20161013T164513_YORK.jpg_sliding_window.jpg'\n",
    "\n",
    "img = keras.preprocessing.image.load_img(\n",
    "    new_img_path, target_size=(img_height, img_width)\n",
    ")\n",
    "img_array = keras.preprocessing.image.img_to_array(img)\n",
    "img_array = tf.expand_dims(img_array, 0) # Create a batch\n",
    "print(img_array.shape)\n",
    "print(img_array)\n",
    "predictions = model.predict(img_array)\n",
    "print(predictions.shape)\n",
    "score = tf.nn.softmax(predictions[0])\n",
    "print(np.argmax(score))\n",
    "print(\n",
    "    \"This image most likely belongs to {} with a {:.2f} percent confidence.\"\n",
    "    .format(class_names[np.argmax(score)], 100 * np.max(score))\n",
    ")\n",
    "# Image.open(new_img_path)"
   ]
  },
  {
   "cell_type": "code",
   "execution_count": 4,
   "metadata": {},
   "outputs": [],
   "source": [
    "#test image\n",
    "cloud = Image.open(new_img_path)\n",
    "# cloud"
   ]
  },
  {
   "cell_type": "code",
   "execution_count": 5,
   "metadata": {},
   "outputs": [
    {
     "name": "stdout",
     "output_type": "stream",
     "text": [
      "(1, 720, 1280, 3)\n",
      "[[[[0.81960784 0.88627451 0.94901961]\n",
      "   [0.81960784 0.88627451 0.94901961]\n",
      "   [0.81960784 0.88627451 0.94901961]\n",
      "   ...\n",
      "   [0.55294118 0.65490196 0.84705882]\n",
      "   [0.53333333 0.63529412 0.82745098]\n",
      "   [0.52156863 0.62352941 0.81568627]]\n",
      "\n",
      "  [[0.81960784 0.88627451 0.94901961]\n",
      "   [0.81960784 0.88627451 0.94901961]\n",
      "   [0.81960784 0.88627451 0.94901961]\n",
      "   ...\n",
      "   [0.57254902 0.6745098  0.86666667]\n",
      "   [0.55686275 0.65882353 0.85098039]\n",
      "   [0.54509804 0.64705882 0.83921569]]\n",
      "\n",
      "  [[0.81960784 0.88627451 0.94901961]\n",
      "   [0.81960784 0.88627451 0.94901961]\n",
      "   [0.81960784 0.88627451 0.94901961]\n",
      "   ...\n",
      "   [0.59215686 0.69411765 0.88627451]\n",
      "   [0.58039216 0.68235294 0.8745098 ]\n",
      "   [0.57254902 0.6745098  0.86666667]]\n",
      "\n",
      "  ...\n",
      "\n",
      "  [[0.21568627 0.19215686 0.12941176]\n",
      "   [0.36078431 0.3372549  0.2745098 ]\n",
      "   [0.41176471 0.38823529 0.3254902 ]\n",
      "   ...\n",
      "   [0.25882353 0.23137255 0.16078431]\n",
      "   [0.28627451 0.25098039 0.18431373]\n",
      "   [0.29411765 0.25882353 0.19215686]]\n",
      "\n",
      "  [[0.16862745 0.14509804 0.08235294]\n",
      "   [0.25882353 0.23529412 0.17254902]\n",
      "   [0.2627451  0.23921569 0.17647059]\n",
      "   ...\n",
      "   [0.29019608 0.2627451  0.2       ]\n",
      "   [0.3254902  0.29803922 0.23529412]\n",
      "   [0.29803922 0.27058824 0.20784314]]\n",
      "\n",
      "  [[0.25098039 0.22745098 0.16470588]\n",
      "   [0.27843137 0.25490196 0.19215686]\n",
      "   [0.20392157 0.18039216 0.11764706]\n",
      "   ...\n",
      "   [0.30588235 0.27843137 0.21568627]\n",
      "   [0.4        0.37254902 0.30980392]\n",
      "   [0.37647059 0.34901961 0.28627451]]]]\n",
      "(1, 7)\n"
     ]
    }
   ],
   "source": [
    "#Add a batch dimension, and pass the image to the model.\n",
    "\n",
    "cloud = np.array(cloud)/255.0\n",
    "cloud = cloud[np.newaxis, ...]\n",
    "print(cloud.shape)\n",
    "print(cloud)\n",
    "result = model.predict(cloud)\n",
    "# result = model.predict(cloud[np.newaxis, ...])\n",
    "print(result.shape)"
   ]
  },
  {
   "cell_type": "code",
   "execution_count": 6,
   "metadata": {},
   "outputs": [
    {
     "name": "stdout",
     "output_type": "stream",
     "text": [
      "3\n",
      "overcast\n"
     ]
    }
   ],
   "source": [
    "#top class ID can be found with argmax:\n",
    "\n",
    "predicted_class = np.argmax(result[0], axis=-1)\n",
    "score = tf.nn.softmax(result[0])\n",
    "print(predicted_class)\n",
    "print(class_names[np.argmax(score)])"
   ]
  },
  {
   "cell_type": "code",
   "execution_count": 7,
   "metadata": {},
   "outputs": [
    {
     "ename": "TypeError",
     "evalue": "Invalid shape (1, 720, 1280, 3) for image data",
     "output_type": "error",
     "traceback": [
      "\u001b[0;31m---------------------------------------------------------------------------\u001b[0m",
      "\u001b[0;31mTypeError\u001b[0m                                 Traceback (most recent call last)",
      "\u001b[0;32m<ipython-input-7-1c1580186acf>\u001b[0m in \u001b[0;36m<module>\u001b[0;34m\u001b[0m\n\u001b[0;32m----> 1\u001b[0;31m \u001b[0mplt\u001b[0m\u001b[0;34m.\u001b[0m\u001b[0mimshow\u001b[0m\u001b[0;34m(\u001b[0m\u001b[0mcloud\u001b[0m\u001b[0;34m)\u001b[0m\u001b[0;34m\u001b[0m\u001b[0;34m\u001b[0m\u001b[0m\n\u001b[0m\u001b[1;32m      2\u001b[0m \u001b[0mplt\u001b[0m\u001b[0;34m.\u001b[0m\u001b[0maxis\u001b[0m\u001b[0;34m(\u001b[0m\u001b[0;34m'off'\u001b[0m\u001b[0;34m)\u001b[0m\u001b[0;34m\u001b[0m\u001b[0;34m\u001b[0m\u001b[0m\n\u001b[1;32m      3\u001b[0m \u001b[0mpredicted_class_name\u001b[0m \u001b[0;34m=\u001b[0m \u001b[0mclass_names\u001b[0m\u001b[0;34m[\u001b[0m\u001b[0mpredicted_class\u001b[0m\u001b[0;34m]\u001b[0m\u001b[0;34m\u001b[0m\u001b[0;34m\u001b[0m\u001b[0m\n\u001b[1;32m      4\u001b[0m \u001b[0m_\u001b[0m \u001b[0;34m=\u001b[0m \u001b[0mplt\u001b[0m\u001b[0;34m.\u001b[0m\u001b[0mtitle\u001b[0m\u001b[0;34m(\u001b[0m\u001b[0;34m\"Prediction: \"\u001b[0m \u001b[0;34m+\u001b[0m \u001b[0mpredicted_class_name\u001b[0m\u001b[0;34m.\u001b[0m\u001b[0mtitle\u001b[0m\u001b[0;34m(\u001b[0m\u001b[0;34m)\u001b[0m\u001b[0;34m)\u001b[0m\u001b[0;34m\u001b[0m\u001b[0;34m\u001b[0m\u001b[0m\n",
      "\u001b[0;32m~/anaconda3/envs/py3.4/lib/python3.6/site-packages/matplotlib/pyplot.py\u001b[0m in \u001b[0;36mimshow\u001b[0;34m(X, cmap, norm, aspect, interpolation, alpha, vmin, vmax, origin, extent, filternorm, filterrad, resample, url, data, **kwargs)\u001b[0m\n\u001b[1;32m   2728\u001b[0m         \u001b[0mfilternorm\u001b[0m\u001b[0;34m=\u001b[0m\u001b[0mfilternorm\u001b[0m\u001b[0;34m,\u001b[0m \u001b[0mfilterrad\u001b[0m\u001b[0;34m=\u001b[0m\u001b[0mfilterrad\u001b[0m\u001b[0;34m,\u001b[0m \u001b[0mresample\u001b[0m\u001b[0;34m=\u001b[0m\u001b[0mresample\u001b[0m\u001b[0;34m,\u001b[0m\u001b[0;34m\u001b[0m\u001b[0;34m\u001b[0m\u001b[0m\n\u001b[1;32m   2729\u001b[0m         \u001b[0murl\u001b[0m\u001b[0;34m=\u001b[0m\u001b[0murl\u001b[0m\u001b[0;34m,\u001b[0m \u001b[0;34m**\u001b[0m\u001b[0;34m(\u001b[0m\u001b[0;34m{\u001b[0m\u001b[0;34m\"data\"\u001b[0m\u001b[0;34m:\u001b[0m \u001b[0mdata\u001b[0m\u001b[0;34m}\u001b[0m \u001b[0;32mif\u001b[0m \u001b[0mdata\u001b[0m \u001b[0;32mis\u001b[0m \u001b[0;32mnot\u001b[0m \u001b[0;32mNone\u001b[0m \u001b[0;32melse\u001b[0m \u001b[0;34m{\u001b[0m\u001b[0;34m}\u001b[0m\u001b[0;34m)\u001b[0m\u001b[0;34m,\u001b[0m\u001b[0;34m\u001b[0m\u001b[0;34m\u001b[0m\u001b[0m\n\u001b[0;32m-> 2730\u001b[0;31m         **kwargs)\n\u001b[0m\u001b[1;32m   2731\u001b[0m     \u001b[0msci\u001b[0m\u001b[0;34m(\u001b[0m\u001b[0m__ret\u001b[0m\u001b[0;34m)\u001b[0m\u001b[0;34m\u001b[0m\u001b[0;34m\u001b[0m\u001b[0m\n\u001b[1;32m   2732\u001b[0m     \u001b[0;32mreturn\u001b[0m \u001b[0m__ret\u001b[0m\u001b[0;34m\u001b[0m\u001b[0;34m\u001b[0m\u001b[0m\n",
      "\u001b[0;32m~/anaconda3/envs/py3.4/lib/python3.6/site-packages/matplotlib/__init__.py\u001b[0m in \u001b[0;36minner\u001b[0;34m(ax, data, *args, **kwargs)\u001b[0m\n\u001b[1;32m   1436\u001b[0m     \u001b[0;32mdef\u001b[0m \u001b[0minner\u001b[0m\u001b[0;34m(\u001b[0m\u001b[0max\u001b[0m\u001b[0;34m,\u001b[0m \u001b[0;34m*\u001b[0m\u001b[0margs\u001b[0m\u001b[0;34m,\u001b[0m \u001b[0mdata\u001b[0m\u001b[0;34m=\u001b[0m\u001b[0;32mNone\u001b[0m\u001b[0;34m,\u001b[0m \u001b[0;34m**\u001b[0m\u001b[0mkwargs\u001b[0m\u001b[0;34m)\u001b[0m\u001b[0;34m:\u001b[0m\u001b[0;34m\u001b[0m\u001b[0;34m\u001b[0m\u001b[0m\n\u001b[1;32m   1437\u001b[0m         \u001b[0;32mif\u001b[0m \u001b[0mdata\u001b[0m \u001b[0;32mis\u001b[0m \u001b[0;32mNone\u001b[0m\u001b[0;34m:\u001b[0m\u001b[0;34m\u001b[0m\u001b[0;34m\u001b[0m\u001b[0m\n\u001b[0;32m-> 1438\u001b[0;31m             \u001b[0;32mreturn\u001b[0m \u001b[0mfunc\u001b[0m\u001b[0;34m(\u001b[0m\u001b[0max\u001b[0m\u001b[0;34m,\u001b[0m \u001b[0;34m*\u001b[0m\u001b[0mmap\u001b[0m\u001b[0;34m(\u001b[0m\u001b[0msanitize_sequence\u001b[0m\u001b[0;34m,\u001b[0m \u001b[0margs\u001b[0m\u001b[0;34m)\u001b[0m\u001b[0;34m,\u001b[0m \u001b[0;34m**\u001b[0m\u001b[0mkwargs\u001b[0m\u001b[0;34m)\u001b[0m\u001b[0;34m\u001b[0m\u001b[0;34m\u001b[0m\u001b[0m\n\u001b[0m\u001b[1;32m   1439\u001b[0m \u001b[0;34m\u001b[0m\u001b[0m\n\u001b[1;32m   1440\u001b[0m         \u001b[0mbound\u001b[0m \u001b[0;34m=\u001b[0m \u001b[0mnew_sig\u001b[0m\u001b[0;34m.\u001b[0m\u001b[0mbind\u001b[0m\u001b[0;34m(\u001b[0m\u001b[0max\u001b[0m\u001b[0;34m,\u001b[0m \u001b[0;34m*\u001b[0m\u001b[0margs\u001b[0m\u001b[0;34m,\u001b[0m \u001b[0;34m**\u001b[0m\u001b[0mkwargs\u001b[0m\u001b[0;34m)\u001b[0m\u001b[0;34m\u001b[0m\u001b[0;34m\u001b[0m\u001b[0m\n",
      "\u001b[0;32m~/anaconda3/envs/py3.4/lib/python3.6/site-packages/matplotlib/axes/_axes.py\u001b[0m in \u001b[0;36mimshow\u001b[0;34m(self, X, cmap, norm, aspect, interpolation, alpha, vmin, vmax, origin, extent, filternorm, filterrad, resample, url, **kwargs)\u001b[0m\n\u001b[1;32m   5521\u001b[0m                               resample=resample, **kwargs)\n\u001b[1;32m   5522\u001b[0m \u001b[0;34m\u001b[0m\u001b[0m\n\u001b[0;32m-> 5523\u001b[0;31m         \u001b[0mim\u001b[0m\u001b[0;34m.\u001b[0m\u001b[0mset_data\u001b[0m\u001b[0;34m(\u001b[0m\u001b[0mX\u001b[0m\u001b[0;34m)\u001b[0m\u001b[0;34m\u001b[0m\u001b[0;34m\u001b[0m\u001b[0m\n\u001b[0m\u001b[1;32m   5524\u001b[0m         \u001b[0mim\u001b[0m\u001b[0;34m.\u001b[0m\u001b[0mset_alpha\u001b[0m\u001b[0;34m(\u001b[0m\u001b[0malpha\u001b[0m\u001b[0;34m)\u001b[0m\u001b[0;34m\u001b[0m\u001b[0;34m\u001b[0m\u001b[0m\n\u001b[1;32m   5525\u001b[0m         \u001b[0;32mif\u001b[0m \u001b[0mim\u001b[0m\u001b[0;34m.\u001b[0m\u001b[0mget_clip_path\u001b[0m\u001b[0;34m(\u001b[0m\u001b[0;34m)\u001b[0m \u001b[0;32mis\u001b[0m \u001b[0;32mNone\u001b[0m\u001b[0;34m:\u001b[0m\u001b[0;34m\u001b[0m\u001b[0;34m\u001b[0m\u001b[0m\n",
      "\u001b[0;32m~/anaconda3/envs/py3.4/lib/python3.6/site-packages/matplotlib/image.py\u001b[0m in \u001b[0;36mset_data\u001b[0;34m(self, A)\u001b[0m\n\u001b[1;32m    708\u001b[0m                 or self._A.ndim == 3 and self._A.shape[-1] in [3, 4]):\n\u001b[1;32m    709\u001b[0m             raise TypeError(\"Invalid shape {} for image data\"\n\u001b[0;32m--> 710\u001b[0;31m                             .format(self._A.shape))\n\u001b[0m\u001b[1;32m    711\u001b[0m \u001b[0;34m\u001b[0m\u001b[0m\n\u001b[1;32m    712\u001b[0m         \u001b[0;32mif\u001b[0m \u001b[0mself\u001b[0m\u001b[0;34m.\u001b[0m\u001b[0m_A\u001b[0m\u001b[0;34m.\u001b[0m\u001b[0mndim\u001b[0m \u001b[0;34m==\u001b[0m \u001b[0;36m3\u001b[0m\u001b[0;34m:\u001b[0m\u001b[0;34m\u001b[0m\u001b[0;34m\u001b[0m\u001b[0m\n",
      "\u001b[0;31mTypeError\u001b[0m: Invalid shape (1, 720, 1280, 3) for image data"
     ]
    },
    {
     "data": {
      "image/png": "[encoded data removed]",
      "text/plain": [
       "<Figure size 432x288 with 1 Axes>"
      ]
     },
     "metadata": {
      "needs_background": "light"
     },
     "output_type": "display_data"
    }
   ],
   "source": [
    "plt.imshow(cloud)\n",
    "plt.axis('off')\n",
    "predicted_class_name = class_names[predicted_class]\n",
    "_ = plt.title(\"Prediction: \" + predicted_class_name.title())"
   ]
  },
  {
   "cell_type": "code",
   "execution_count": null,
   "metadata": {},
   "outputs": [],
   "source": []
  }
 ],
 "metadata": {
  "kernelspec": {
   "display_name": "Python 3",
   "language": "python",
   "name": "python3"
  },
  "language_info": {
   "codemirror_mode": {
    "name": "ipython",
    "version": 3
   },
   "file_extension": ".py",
   "mimetype": "text/x-python",
   "name": "python",
   "nbconvert_exporter": "python",
   "pygments_lexer": "ipython3",
   "version": "3.6.11"
  }
 },
 "nbformat": 4,
 "nbformat_minor": 4
}
