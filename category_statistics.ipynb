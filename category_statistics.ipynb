{
 "cells": [
  {
   "cell_type": "code",
   "execution_count": 1,
   "metadata": {},
   "outputs": [
    {
     "data": {
      "text/html": [
       "<div>\n",
       "<style scoped>\n",
       "    .dataframe tbody tr th:only-of-type {\n",
       "        vertical-align: middle;\n",
       "    }\n",
       "\n",
       "    .dataframe tbody tr th {\n",
       "        vertical-align: top;\n",
       "    }\n",
       "\n",
       "    .dataframe thead th {\n",
       "        text-align: right;\n",
       "    }\n",
       "</style>\n",
       "<table border=\"1\" class=\"dataframe\">\n",
       "  <thead>\n",
       "    <tr style=\"text-align: right;\">\n",
       "      <th></th>\n",
       "      <th>name</th>\n",
       "      <th>num_files</th>\n",
       "    </tr>\n",
       "  </thead>\n",
       "  <tbody>\n",
       "    <tr>\n",
       "      <th>4777</th>\n",
       "      <td>rain</td>\n",
       "      <td>4777.0</td>\n",
       "    </tr>\n",
       "    <tr>\n",
       "      <th>14625</th>\n",
       "      <td>overcast</td>\n",
       "      <td>9847.0</td>\n",
       "    </tr>\n",
       "    <tr>\n",
       "      <th>21260</th>\n",
       "      <td>clear</td>\n",
       "      <td>6634.0</td>\n",
       "    </tr>\n",
       "    <tr>\n",
       "      <th>26405</th>\n",
       "      <td>few</td>\n",
       "      <td>5144.0</td>\n",
       "    </tr>\n",
       "    <tr>\n",
       "      <th>38141</th>\n",
       "      <td>scattered</td>\n",
       "      <td>11735.0</td>\n",
       "    </tr>\n",
       "    <tr>\n",
       "      <th>44080</th>\n",
       "      <td>night</td>\n",
       "      <td>5938.0</td>\n",
       "    </tr>\n",
       "    <tr>\n",
       "      <th>44805</th>\n",
       "      <td>snow</td>\n",
       "      <td>724.0</td>\n",
       "    </tr>\n",
       "    <tr>\n",
       "      <th>44806</th>\n",
       "      <td></td>\n",
       "      <td>44799.0</td>\n",
       "    </tr>\n",
       "  </tbody>\n",
       "</table>\n",
       "</div>"
      ],
      "text/plain": [
       "            name  num_files\n",
       "4777        rain     4777.0\n",
       "14625   overcast     9847.0\n",
       "21260      clear     6634.0\n",
       "26405        few     5144.0\n",
       "38141  scattered    11735.0\n",
       "44080      night     5938.0\n",
       "44805       snow      724.0\n",
       "44806               44799.0"
      ]
     },
     "execution_count": 1,
     "metadata": {},
     "output_type": "execute_result"
    }
   ],
   "source": [
    "import os\n",
    "import folderstats\n",
    "import matplotlib.pyplot as plt\n",
    "import squarify\n",
    "import numpy as np\n",
    "import datetime\n",
    "\n",
    "#parent folder of images (children should be categories)\n",
    "folder = '/raid/arnold/clouds_detection/ALL/'\n",
    "filepaths = [os.path.join(folder, f) for f in os.listdir(folder)]\n",
    "\n",
    "#print(os.stat(folder))\n",
    "df = folderstats.folderstats(folder, ignore_hidden=True)\n",
    "df.head()\n",
    "#only look at folders\n",
    "df_folder = df[df['folder']]\n",
    "df_folder[['name', 'num_files']]"
   ]
  },
  {
   "cell_type": "code",
   "execution_count": 2,
   "metadata": {},
   "outputs": [],
   "source": [
    "#find folders\n",
    "#df[df['folder']]\n",
    "\n",
    "#drop broken rows\n",
    "#df_folder = df_folder.drop(index=44807, axis=0)\n",
    "# df_folder.head()"
   ]
  },
  {
   "cell_type": "code",
   "execution_count": 3,
   "metadata": {},
   "outputs": [
    {
     "data": {
      "text/html": [
       "<div>\n",
       "<style scoped>\n",
       "    .dataframe tbody tr th:only-of-type {\n",
       "        vertical-align: middle;\n",
       "    }\n",
       "\n",
       "    .dataframe tbody tr th {\n",
       "        vertical-align: top;\n",
       "    }\n",
       "\n",
       "    .dataframe thead th {\n",
       "        text-align: right;\n",
       "    }\n",
       "</style>\n",
       "<table border=\"1\" class=\"dataframe\">\n",
       "  <thead>\n",
       "    <tr style=\"text-align: right;\">\n",
       "      <th></th>\n",
       "      <th>num_files</th>\n",
       "    </tr>\n",
       "    <tr>\n",
       "      <th>name</th>\n",
       "      <th></th>\n",
       "    </tr>\n",
       "  </thead>\n",
       "  <tbody>\n",
       "    <tr>\n",
       "      <th>rain</th>\n",
       "      <td>4777.0</td>\n",
       "    </tr>\n",
       "    <tr>\n",
       "      <th>overcast</th>\n",
       "      <td>9847.0</td>\n",
       "    </tr>\n",
       "    <tr>\n",
       "      <th>clear</th>\n",
       "      <td>6634.0</td>\n",
       "    </tr>\n",
       "    <tr>\n",
       "      <th>few</th>\n",
       "      <td>5144.0</td>\n",
       "    </tr>\n",
       "    <tr>\n",
       "      <th>scattered</th>\n",
       "      <td>11735.0</td>\n",
       "    </tr>\n",
       "    <tr>\n",
       "      <th>night</th>\n",
       "      <td>5938.0</td>\n",
       "    </tr>\n",
       "    <tr>\n",
       "      <th>snow</th>\n",
       "      <td>724.0</td>\n",
       "    </tr>\n",
       "    <tr>\n",
       "      <th></th>\n",
       "      <td>44799.0</td>\n",
       "    </tr>\n",
       "  </tbody>\n",
       "</table>\n",
       "</div>"
      ],
      "text/plain": [
       "           num_files\n",
       "name                \n",
       "rain          4777.0\n",
       "overcast      9847.0\n",
       "clear         6634.0\n",
       "few           5144.0\n",
       "scattered    11735.0\n",
       "night         5938.0\n",
       "snow           724.0\n",
       "             44799.0"
      ]
     },
     "execution_count": 3,
     "metadata": {},
     "output_type": "execute_result"
    }
   ],
   "source": [
    "#print number of files for each category \n",
    "cloud_num = df_folder[['name', 'num_files']]\n",
    "cloud_num = cloud_num.set_index('name')\n",
    "cloud_num"
   ]
  },
  {
   "cell_type": "code",
   "execution_count": 5,
   "metadata": {},
   "outputs": [
    {
     "data": {
      "text/html": [
       "<div>\n",
       "<style scoped>\n",
       "    .dataframe tbody tr th:only-of-type {\n",
       "        vertical-align: middle;\n",
       "    }\n",
       "\n",
       "    .dataframe tbody tr th {\n",
       "        vertical-align: top;\n",
       "    }\n",
       "\n",
       "    .dataframe thead th {\n",
       "        text-align: right;\n",
       "    }\n",
       "</style>\n",
       "<table border=\"1\" class=\"dataframe\">\n",
       "  <thead>\n",
       "    <tr style=\"text-align: right;\">\n",
       "      <th></th>\n",
       "      <th>id</th>\n",
       "      <th>path</th>\n",
       "      <th>name</th>\n",
       "      <th>extension</th>\n",
       "      <th>size</th>\n",
       "      <th>atime</th>\n",
       "      <th>mtime</th>\n",
       "      <th>ctime</th>\n",
       "      <th>folder</th>\n",
       "      <th>num_files</th>\n",
       "      <th>depth</th>\n",
       "      <th>parent</th>\n",
       "      <th>uid</th>\n",
       "    </tr>\n",
       "  </thead>\n",
       "  <tbody>\n",
       "    <tr>\n",
       "      <th>0</th>\n",
       "      <td>3</td>\n",
       "      <td>/raid/arnold/clouds_detection/ALL/rain/2019061...</td>\n",
       "      <td>20190610T170526_BKLN</td>\n",
       "      <td>jpg</td>\n",
       "      <td>88606</td>\n",
       "      <td>2021-06-10 13:47:18</td>\n",
       "      <td>2020-10-20 15:49:12</td>\n",
       "      <td>2021-02-11 18:22:30</td>\n",
       "      <td>False</td>\n",
       "      <td>NaN</td>\n",
       "      <td>1</td>\n",
       "      <td>2</td>\n",
       "      <td>65534</td>\n",
       "    </tr>\n",
       "    <tr>\n",
       "      <th>1</th>\n",
       "      <td>4</td>\n",
       "      <td>/raid/arnold/clouds_detection/ALL/rain/2019050...</td>\n",
       "      <td>20190505T171527_BKLN</td>\n",
       "      <td>jpg</td>\n",
       "      <td>99646</td>\n",
       "      <td>2021-06-10 13:53:18</td>\n",
       "      <td>2020-10-20 15:40:13</td>\n",
       "      <td>2021-02-11 18:22:30</td>\n",
       "      <td>False</td>\n",
       "      <td>NaN</td>\n",
       "      <td>1</td>\n",
       "      <td>2</td>\n",
       "      <td>65534</td>\n",
       "    </tr>\n",
       "    <tr>\n",
       "      <th>2</th>\n",
       "      <td>5</td>\n",
       "      <td>/raid/arnold/clouds_detection/ALL/rain/2019062...</td>\n",
       "      <td>20190621T153526_BKLN</td>\n",
       "      <td>jpg</td>\n",
       "      <td>81607</td>\n",
       "      <td>2021-06-10 13:51:08</td>\n",
       "      <td>2020-10-20 15:48:04</td>\n",
       "      <td>2021-02-11 18:22:30</td>\n",
       "      <td>False</td>\n",
       "      <td>NaN</td>\n",
       "      <td>1</td>\n",
       "      <td>2</td>\n",
       "      <td>65534</td>\n",
       "    </tr>\n",
       "    <tr>\n",
       "      <th>3</th>\n",
       "      <td>6</td>\n",
       "      <td>/raid/arnold/clouds_detection/ALL/rain/2019062...</td>\n",
       "      <td>20190620T145027_BKLN</td>\n",
       "      <td>jpg</td>\n",
       "      <td>80033</td>\n",
       "      <td>2021-06-10 13:49:58</td>\n",
       "      <td>2020-10-20 15:49:37</td>\n",
       "      <td>2021-02-11 18:22:30</td>\n",
       "      <td>False</td>\n",
       "      <td>NaN</td>\n",
       "      <td>1</td>\n",
       "      <td>2</td>\n",
       "      <td>65534</td>\n",
       "    </tr>\n",
       "    <tr>\n",
       "      <th>4</th>\n",
       "      <td>7</td>\n",
       "      <td>/raid/arnold/clouds_detection/ALL/rain/2019051...</td>\n",
       "      <td>20190514T234026_BKLN</td>\n",
       "      <td>jpg</td>\n",
       "      <td>79198</td>\n",
       "      <td>2021-06-10 14:11:23</td>\n",
       "      <td>2020-10-20 15:41:00</td>\n",
       "      <td>2021-02-11 18:22:30</td>\n",
       "      <td>False</td>\n",
       "      <td>NaN</td>\n",
       "      <td>1</td>\n",
       "      <td>2</td>\n",
       "      <td>65534</td>\n",
       "    </tr>\n",
       "  </tbody>\n",
       "</table>\n",
       "</div>"
      ],
      "text/plain": [
       "   id                                               path  \\\n",
       "0   3  /raid/arnold/clouds_detection/ALL/rain/2019061...   \n",
       "1   4  /raid/arnold/clouds_detection/ALL/rain/2019050...   \n",
       "2   5  /raid/arnold/clouds_detection/ALL/rain/2019062...   \n",
       "3   6  /raid/arnold/clouds_detection/ALL/rain/2019062...   \n",
       "4   7  /raid/arnold/clouds_detection/ALL/rain/2019051...   \n",
       "\n",
       "                   name extension   size               atime  \\\n",
       "0  20190610T170526_BKLN       jpg  88606 2021-06-10 13:47:18   \n",
       "1  20190505T171527_BKLN       jpg  99646 2021-06-10 13:53:18   \n",
       "2  20190621T153526_BKLN       jpg  81607 2021-06-10 13:51:08   \n",
       "3  20190620T145027_BKLN       jpg  80033 2021-06-10 13:49:58   \n",
       "4  20190514T234026_BKLN       jpg  79198 2021-06-10 14:11:23   \n",
       "\n",
       "                mtime               ctime  folder  num_files  depth  parent  \\\n",
       "0 2020-10-20 15:49:12 2021-02-11 18:22:30   False        NaN      1       2   \n",
       "1 2020-10-20 15:40:13 2021-02-11 18:22:30   False        NaN      1       2   \n",
       "2 2020-10-20 15:48:04 2021-02-11 18:22:30   False        NaN      1       2   \n",
       "3 2020-10-20 15:49:37 2021-02-11 18:22:30   False        NaN      1       2   \n",
       "4 2020-10-20 15:41:00 2021-02-11 18:22:30   False        NaN      1       2   \n",
       "\n",
       "     uid  \n",
       "0  65534  \n",
       "1  65534  \n",
       "2  65534  \n",
       "3  65534  \n",
       "4  65534  "
      ]
     },
     "execution_count": 5,
     "metadata": {},
     "output_type": "execute_result"
    }
   ],
   "source": [
    "\n",
    "#drop all folders\n",
    "df.drop(df.loc[df['folder']==True].index, inplace=True)\n",
    "df.head() #uncomment to view"
   ]
  },
  {
   "cell_type": "code",
   "execution_count": null,
   "metadata": {},
   "outputs": [],
   "source": [
    "**** need to edit to get correct classification since new path and change from cloud type to class or class type\n",
    "#get cloud type and make a new column for it\n",
    "# cloud_type = df[\"path\"].str.split(\"raindrop-detection-cnn/\", n=1, expand = True)\n",
    "# cloud_type.head()\n",
    "#not working ffor some reason\n",
    "# for i in range(0, len(df)): \n",
    "#     df.iloc[i].path = df.iloc[i].path[17:-1] \n",
    "\n",
    "# df['path'] = df['path'].str.slice(17, -1)     \n",
    "# df.head()\n",
    "cloud_type = df['path'].str.slice(41, -4)  \n",
    "df['path'] = cloud_type\n",
    "# new data frame with split value columns to seperate time from name\n",
    "new_split = df[\"path\"].str.split(\"/\", n = 1, expand = True) \n",
    "df['cloud'] = new_split[0]\n",
    "# df.head() #uncomment to view"
   ]
  },
  {
   "cell_type": "code",
   "execution_count": null,
   "metadata": {},
   "outputs": [],
   "source": [
    "# new data frame with split value columns to seperate time from name\n",
    "new_split = df[\"path\"].str.split(\"/\", n = 1, expand = True) \n",
    "df['cloud'] = new_split[0]\n",
    "# df.head() #uncomment to view"
   ]
  },
  {
   "cell_type": "code",
   "execution_count": null,
   "metadata": {},
   "outputs": [],
   "source": [
    "# dropping null value columns to avoid errors \n",
    "# data.dropna(inplace = True) \n",
    "  \n",
    "# new data frame with split value columns to seperate time from name\n",
    "new = df[\"name\"].str.split(\"_\", n = 1, expand = True) \n",
    "# print(new)\n",
    "# making separate date column from new data frame and merge into orignal df\n",
    "df[\"date\"]= new[0] \n",
    "  \n",
    "# making separate name column from new data frame and merge into orignal df\n",
    "df[\"site_name\"]= new[1] \n",
    "  \n",
    "# Dropping old Name columns \n",
    "df.drop(columns =[\"name\"], inplace = True) \n",
    "  \n",
    "# df display \n",
    "# df #uncomment to view"
   ]
  },
  {
   "cell_type": "code",
   "execution_count": null,
   "metadata": {},
   "outputs": [],
   "source": [
    "import pandas as pd\n",
    "\n",
    "# converting the string to datetime format \n",
    "# df['Dates'] = pd.to_datetime(df['date'], format='%Y%m%dT%H%M%S') \n",
    "df['Dates'] = pd.to_datetime(df['date'], format='%Y%m%dT%H%M%S') \n",
    "# df.head() #uncomment to view"
   ]
  },
  {
   "cell_type": "code",
   "execution_count": null,
   "metadata": {},
   "outputs": [],
   "source": [
    "#create a new column with year of date field\n",
    "df['year'] = pd.DatetimeIndex(df['date']).year\n",
    "#create a new column with month of date field\n",
    "df['month'] = pd.DatetimeIndex(df['date']).month\n",
    "#since we have datetime obj, can extract the day/month/year using the to_period function\n",
    "#where 'D', 'M', 'Y' are inputs\n",
    "df['month_year'] = pd.to_datetime(df['date']).dt.to_period('M')\n",
    "# df.head() #uncomment to view"
   ]
  },
  {
   "cell_type": "code",
   "execution_count": null,
   "metadata": {},
   "outputs": [],
   "source": [
    "#drop cols that are not needed\n",
    "# Dropping old Name columns \n",
    "df.drop(columns =[\"id\", \"extension\", \"atime\", \"mtime\", \"ctime\", \"folder\", \"depth\", \"parent\", \"uid\"], inplace = True) \n",
    "df.head() #now we have the cleaned up df with the information we want and can visualize "
   ]
  },
  {
   "cell_type": "code",
   "execution_count": null,
   "metadata": {},
   "outputs": [],
   "source": [
    "#make month_year the index\n",
    "df = df.set_index('month_year')\n",
    "df.head()\n"
   ]
  },
  {
   "cell_type": "code",
   "execution_count": null,
   "metadata": {},
   "outputs": [],
   "source": [
    "cloud_num.loc['rain']"
   ]
  },
  {
   "cell_type": "code",
   "execution_count": null,
   "metadata": {},
   "outputs": [],
   "source": [
    "#add num files from cloud_num into df\n",
    "#works for single condition\n",
    "# df['num_files'] = np.where(df['cloud']== 'rain', cloud_num.loc['rain'], False)\n",
    "df['num_files'] = np.where(df['cloud']== 'rain', cloud_num.loc['rain'], \n",
    "                           np.where(df['cloud']== 'overcast', cloud_num.loc['overcast'], \n",
    "                                    np.where(df['cloud']== 'clear', cloud_num.loc['clear'], \n",
    "                                             np.where(df['cloud']== 'few', cloud_num.loc['few'], \n",
    "                                                      np.where(df['cloud']== 'scattered', cloud_num.loc['scattered'], \n",
    "                                                               np.where(df['cloud']== 'night', cloud_num.loc['night'], \n",
    "                                                                        np.where(df['cloud']== 'snow', cloud_num.loc['snow'], False)))))))"
   ]
  },
  {
   "cell_type": "code",
   "execution_count": null,
   "metadata": {},
   "outputs": [],
   "source": [
    "df"
   ]
  },
  {
   "cell_type": "code",
   "execution_count": null,
   "metadata": {},
   "outputs": [],
   "source": [
    "#show distribution by month\n",
    "with plt.style.context('ggplot'):\n",
    "    df['month'].value_counts().plot(\n",
    "        kind='bar', color='C1', title='Distribution by month');"
   ]
  },
  {
   "cell_type": "code",
   "execution_count": null,
   "metadata": {},
   "outputs": [],
   "source": [
    "#show distribution by month\n",
    "with plt.style.context('ggplot'):\n",
    "    df['cloud'].value_counts().plot(\n",
    "        kind='bar', color='C1', title='Overcast Distribution by month');"
   ]
  },
  {
   "cell_type": "code",
   "execution_count": null,
   "metadata": {},
   "outputs": [],
   "source": [
    "#plotting and saving the plots\n",
    "df.groupby(['month','cloud']).count()['num_files'].unstack().plot( kind='bar', )\n",
    "\n",
    "# the plot gets saved to 'output.png'\n",
    "# plt.savefig('output.png')"
   ]
  },
  {
   "cell_type": "code",
   "execution_count": null,
   "metadata": {},
   "outputs": [],
   "source": [
    "# df[[\"year\", \"month\", \"cloud\", \"site_name\"]].plot(x=\"year\", kind=\"bar\")\n",
    "fig, ax = plt.subplots(figsize=(15,7))\n",
    "df.groupby(['month']).count()['cloud'].plot(ax=ax)"
   ]
  },
  {
   "cell_type": "code",
   "execution_count": null,
   "metadata": {},
   "outputs": [],
   "source": [
    "# plot data\n",
    "fig, ax = plt.subplots(figsize=(15,7))\n",
    "# use unstack()\n",
    "df.groupby(['month','cloud']).count()['num_files'].unstack().plot(ax=ax)"
   ]
  },
  {
   "cell_type": "code",
   "execution_count": null,
   "metadata": {},
   "outputs": [],
   "source": [
    "df_folder.plot(x='name', y='num_files', kind='bar') \n"
   ]
  },
  {
   "cell_type": "code",
   "execution_count": null,
   "metadata": {},
   "outputs": [],
   "source": [
    "#show distribution by file size\n",
    "with plt.style.context('ggplot'):\n",
    "    # Group by extension and sum all sizes for each extension \n",
    "#     extension_sizes = df.groupby('month')['cloud'].sum()\n",
    "    extension_sizes = df.groupby('cloud')['month'].sum()\n",
    "    # Sort elements by size\n",
    "    extension_sizes = extension_sizes.sort_values(ascending=False)\n",
    "    \n",
    "    extension_sizes.plot(\n",
    "        kind='bar', color='C1', title='Overcast Distribution by month');"
   ]
  },
  {
   "cell_type": "code",
   "execution_count": null,
   "metadata": {},
   "outputs": [],
   "source": [
    "#Tree map\n",
    "\n",
    "# Group by extension and sum all sizes for each extension\n",
    "extension_sizes = df.groupby('cloud')['month'].sum()\n",
    "# Sort elements by size\n",
    "extension_sizes = extension_sizes.sort_values(ascending=False)\n",
    "\n",
    "squarify.plot(sizes=extension_sizes.values, label=extension_sizes.index.values)\n",
    "plt.title('Overcast Treemap by month')\n",
    "plt.axis('off');"
   ]
  },
  {
   "cell_type": "code",
   "execution_count": null,
   "metadata": {},
   "outputs": [],
   "source": [
    "with plt.style.context('ggplot'):\n",
    "    # Filter the data set to only folders\n",
    "    df_folders = df[df['folder']]\n",
    "    # Set the name to be the index (so we can use it as a label later)\n",
    "    df_folders.set_index('name', inplace=True)\n",
    "    # Sort the folders by size\n",
    "    df_folders = df_folders.sort_values(by='num_files', ascending=False)\n",
    "    \n",
    "    # Show the size of the largest 50 folders as a bar plot\n",
    "    df_sizes['num_files'][:50].plot(kind='bar', color='C0', title='Category # files');"
   ]
  },
  {
   "cell_type": "code",
   "execution_count": null,
   "metadata": {},
   "outputs": [],
   "source": [
    "with plt.style.context('ggplot'):\n",
    "    y, bins = np.histogram(df['size'], bins=10000)\n",
    "    plt.loglog(bins[:-1], y, '.');\n",
    "    plt.ylabel('Size')\n",
    "    plt.xlabel('Rank')\n"
   ]
  },
  {
   "cell_type": "code",
   "execution_count": null,
   "metadata": {},
   "outputs": [],
   "source": [
    "import networkx as nx\n",
    "\n",
    "# Sort the index\n",
    "df_sorted = df.sort_values(by='id')\n",
    "\n",
    "G = nx.Graph()\n",
    "for i, row in df_sorted.iterrows():\n",
    "    if row.parent:\n",
    "        G.add_edge(row.id, row.parent)\n",
    "    \n",
    "# Print some additional information\n",
    "#nodes (files and folders)\n",
    "print(nx.info(G))"
   ]
  },
  {
   "cell_type": "code",
   "execution_count": null,
   "metadata": {},
   "outputs": [],
   "source": [
    "from networkx.drawing.nx_pydot import graphviz_layout\n",
    "\n",
    "pos_dot = graphviz_layout(G, prog='dot')\n",
    "\n",
    "fig = plt.figure(figsize=(16, 8))\n",
    "nodes = nx.draw_networkx_nodes(G, pos_dot, node_size=2, node_color='C0')\n",
    "edges = nx.draw_networkx_edges(G, pos_dot, edge_color='C0', width=0.5)\n",
    "plt.axis('off');"
   ]
  },
  {
   "cell_type": "code",
   "execution_count": null,
   "metadata": {},
   "outputs": [],
   "source": [
    "pos_twopi = graphviz_layout(G, prog='twopi', root=1)\n",
    "\n",
    "fig = plt.figure(figsize=(14, 14))\n",
    "nodes = nx.draw_networkx_nodes(G, pos_twopi, node_size=2, node_color='C0')\n",
    "edges = nx.draw_networkx_edges(G, pos_twopi, edge_color='C0', width=0.5)\n",
    "plt.axis('off')\n",
    "plt.axis('equal');"
   ]
  },
  {
   "cell_type": "code",
   "execution_count": null,
   "metadata": {},
   "outputs": [],
   "source": []
  }
 ],
 "metadata": {
  "kernelspec": {
   "display_name": "Python 3",
   "language": "python",
   "name": "python3"
  },
  "language_info": {
   "codemirror_mode": {
    "name": "ipython",
    "version": 3
   },
   "file_extension": ".py",
   "mimetype": "text/x-python",
   "name": "python",
   "nbconvert_exporter": "python",
   "pygments_lexer": "ipython3",
   "version": "3.8.8"
  }
 },
 "nbformat": 4,
 "nbformat_minor": 4
}
